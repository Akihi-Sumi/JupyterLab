{
 "cells": [
  {
   "cell_type": "code",
   "execution_count": 20,
   "id": "d155a855-7dee-45a0-b73c-202525d15796",
   "metadata": {},
   "outputs": [
    {
     "name": "stdout",
     "output_type": "stream",
     "text": [
      "\n",
      "\t\t\t\t\t\t\t名古屋工学院専門学校\n",
      "\t\t\t\t\t\t\t住所 ： 〒456-0031 名古屋市熱田区神宮4-7-21\n",
      "\t\t\t\t\t\t\t電話 ： 052-681-1311\n",
      "\t\t\t\t\t\t\tフリーアクセス ： 0120-153750 （行こう・みんなでゴー）\n",
      "\t\t\t\t\t\t\tFAX ： 052-682-3017 \n",
      "\t\t\t\t\t\t\tメールアドレス ： nkc.info@denpa.jp\n"
     ]
    }
   ],
   "source": [
    "import requests\n",
    "from bs4 import BeautifulSoup\n",
    "\n",
    "url='https://www.denpa.ac.jp/privacy_policy/index.html'\n",
    "\n",
    "res=requests.get(url)\n",
    "soup=BeautifulSoup(res.content, \"html.parser\")\n",
    "\n",
    "elem=soup.select('p.text-box-detail')\n",
    "print(elem[9].text[201:])"
   ]
  }
 ],
 "metadata": {
  "kernelspec": {
   "display_name": "Python 3 (ipykernel)",
   "language": "python",
   "name": "python3"
  },
  "language_info": {
   "codemirror_mode": {
    "name": "ipython",
    "version": 3
   },
   "file_extension": ".py",
   "mimetype": "text/x-python",
   "name": "python",
   "nbconvert_exporter": "python",
   "pygments_lexer": "ipython3",
   "version": "3.9.7"
  }
 },
 "nbformat": 4,
 "nbformat_minor": 5
}
